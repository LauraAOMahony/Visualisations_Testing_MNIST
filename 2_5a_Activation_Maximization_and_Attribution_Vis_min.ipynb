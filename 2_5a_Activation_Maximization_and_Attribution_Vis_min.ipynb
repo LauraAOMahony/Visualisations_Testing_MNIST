{
  "nbformat": 4,
  "nbformat_minor": 0,
  "metadata": {
    "colab": {
      "name": "Copy of 2.5a_Activation_Maximization_and_Attribution_Vis.ipynb ",
      "provenance": []
    },
    "kernelspec": {
      "name": "python3",
      "display_name": "Python 3"
    },
    "language_info": {
      "name": "python"
    }
  },
  "cells": [
    {
      "cell_type": "markdown",
      "source": [
        "## Preparation"
      ],
      "metadata": {
        "id": "YNuMla1umB-8"
      }
    },
    {
      "cell_type": "markdown",
      "source": [
        "### Import"
      ],
      "metadata": {
        "id": "Nq2AWXhYoXZd"
      }
    },
    {
      "cell_type": "code",
      "source": [
        "import numpy as np\n",
        "import matplotlib.pyplot as plt\n",
        "import matplotlib.image as mpimg\n",
        "\n",
        "import tensorflow as tf\n",
        "import datetime # for tensorboard\n",
        "from sklearn.model_selection import train_test_split\n",
        "from tensorflow import keras\n",
        "\n",
        "import pandas as pd\n",
        "import seaborn as sns\n",
        "from sklearn.manifold import TSNE\n",
        "from keras import backend as K\n",
        "\n",
        "import time\n",
        "\n",
        "from tensorflow.keras.models import load_model\n",
        "\n",
        "from IPython.core.interactiveshell import InteractiveShell\n",
        "InteractiveShell.ast_node_interactivity = \"all\" # display multiple outputs\n",
        "\n",
        "from IPython.display import Image\n",
        "\n",
        "from tensorflow.keras.callbacks import TensorBoard # Import TensorBoard"
      ],
      "metadata": {
        "id": "ZaFP4CFhoaEl"
      },
      "execution_count": null,
      "outputs": []
    },
    {
      "cell_type": "code",
      "source": [
        "!pip install tf-explain"
      ],
      "metadata": {
        "colab": {
          "base_uri": "https://localhost:8080/"
        },
        "id": "Xu_hp5mHoa6u",
        "outputId": "3ee4ad75-56ed-4222-a196-ef3e93a7b8fc"
      },
      "execution_count": null,
      "outputs": [
        {
          "output_type": "stream",
          "name": "stdout",
          "text": [
            "Collecting tf-explain\n",
            "  Downloading tf_explain-0.3.1-py3-none-any.whl (43 kB)\n",
            "\u001b[?25l\r\u001b[K     |███████▌                        | 10 kB 22.7 MB/s eta 0:00:01\r\u001b[K     |███████████████                 | 20 kB 28.7 MB/s eta 0:00:01\r\u001b[K     |██████████████████████▋         | 30 kB 32.5 MB/s eta 0:00:01\r\u001b[K     |██████████████████████████████  | 40 kB 35.6 MB/s eta 0:00:01\r\u001b[K     |████████████████████████████████| 43 kB 1.7 MB/s \n",
            "\u001b[?25hInstalling collected packages: tf-explain\n",
            "Successfully installed tf-explain-0.3.1\n"
          ]
        }
      ]
    },
    {
      "cell_type": "code",
      "source": [
        "from google.colab import drive\n",
        "drive.mount('/content/gdrive')"
      ],
      "metadata": {
        "colab": {
          "base_uri": "https://localhost:8080/"
        },
        "id": "-HLbIQ0fohMI",
        "outputId": "85031de8-2871-48a4-f3c9-5a769ca6b5d6"
      },
      "execution_count": null,
      "outputs": [
        {
          "output_type": "stream",
          "name": "stdout",
          "text": [
            "Mounted at /content/gdrive\n"
          ]
        }
      ]
    },
    {
      "cell_type": "code",
      "source": [
        "# Load the TensorBoard notebook extension\n",
        "%load_ext tensorboard"
      ],
      "metadata": {
        "id": "oiTHmrfaolM6"
      },
      "execution_count": null,
      "outputs": []
    },
    {
      "cell_type": "code",
      "source": [
        "mnist = tf.keras.datasets.mnist\n",
        "\n",
        "(x_train, y_train), (x_test, y_test) = mnist.load_data()\n",
        "x_train, x_test = x_train / 255.0, x_test / 255.0"
      ],
      "metadata": {
        "colab": {
          "base_uri": "https://localhost:8080/"
        },
        "id": "G-7J0Rf1orkv",
        "outputId": "0a0ebd94-4c33-4e1c-9ae5-853f5d74cc93"
      },
      "execution_count": null,
      "outputs": [
        {
          "output_type": "stream",
          "name": "stdout",
          "text": [
            "Downloading data from https://storage.googleapis.com/tensorflow/tf-keras-datasets/mnist.npz\n",
            "11493376/11490434 [==============================] - 0s 0us/step\n",
            "11501568/11490434 [==============================] - 0s 0us/step\n"
          ]
        }
      ]
    },
    {
      "cell_type": "code",
      "source": [
        "# also want a validation set\n",
        "x_train, x_val, y_train, y_val = train_test_split(x_train, y_train,  \n",
        "                                                    test_size = 0.2, random_state = 42)"
      ],
      "metadata": {
        "id": "aCdUkAiio1_n"
      },
      "execution_count": null,
      "outputs": []
    },
    {
      "cell_type": "code",
      "source": [
        "mnist; print();\n",
        "x_train.shape; print();\n",
        "x_val.shape; print();\n",
        "x_test.shape; print();\n",
        "y_train.shape; print();\n",
        "y_val.shape; print();\n",
        "y_test.shape"
      ],
      "metadata": {
        "colab": {
          "base_uri": "https://localhost:8080/"
        },
        "id": "KAuMcyPTo39y",
        "outputId": "4aa44343-0594-45f7-fa7b-b5745f606598"
      },
      "execution_count": null,
      "outputs": [
        {
          "output_type": "execute_result",
          "data": {
            "text/plain": [
              "<module 'keras.api._v2.keras.datasets.mnist' from '/usr/local/lib/python3.7/dist-packages/keras/api/_v2/keras/datasets/mnist/__init__.py'>"
            ]
          },
          "metadata": {},
          "execution_count": 9
        },
        {
          "output_type": "stream",
          "name": "stdout",
          "text": [
            "\n"
          ]
        },
        {
          "output_type": "execute_result",
          "data": {
            "text/plain": [
              "(48000, 28, 28)"
            ]
          },
          "metadata": {},
          "execution_count": 9
        },
        {
          "output_type": "stream",
          "name": "stdout",
          "text": [
            "\n"
          ]
        },
        {
          "output_type": "execute_result",
          "data": {
            "text/plain": [
              "(12000, 28, 28)"
            ]
          },
          "metadata": {},
          "execution_count": 9
        },
        {
          "output_type": "stream",
          "name": "stdout",
          "text": [
            "\n"
          ]
        },
        {
          "output_type": "execute_result",
          "data": {
            "text/plain": [
              "(10000, 28, 28)"
            ]
          },
          "metadata": {},
          "execution_count": 9
        },
        {
          "output_type": "stream",
          "name": "stdout",
          "text": [
            "\n"
          ]
        },
        {
          "output_type": "execute_result",
          "data": {
            "text/plain": [
              "(48000,)"
            ]
          },
          "metadata": {},
          "execution_count": 9
        },
        {
          "output_type": "stream",
          "name": "stdout",
          "text": [
            "\n"
          ]
        },
        {
          "output_type": "execute_result",
          "data": {
            "text/plain": [
              "(12000,)"
            ]
          },
          "metadata": {},
          "execution_count": 9
        },
        {
          "output_type": "stream",
          "name": "stdout",
          "text": [
            "\n"
          ]
        },
        {
          "output_type": "execute_result",
          "data": {
            "text/plain": [
              "(10000,)"
            ]
          },
          "metadata": {},
          "execution_count": 9
        }
      ]
    },
    {
      "cell_type": "code",
      "source": [
        "tf.convert_to_tensor(x_train)"
      ],
      "metadata": {
        "colab": {
          "base_uri": "https://localhost:8080/"
        },
        "id": "VzLUfWcvo36o",
        "outputId": "11f8c633-5508-4772-d94b-528d4821f0e8"
      },
      "execution_count": null,
      "outputs": [
        {
          "output_type": "execute_result",
          "data": {
            "text/plain": [
              "<tf.Tensor: shape=(48000, 28, 28), dtype=float64, numpy=\n",
              "array([[[0., 0., 0., ..., 0., 0., 0.],\n",
              "        [0., 0., 0., ..., 0., 0., 0.],\n",
              "        [0., 0., 0., ..., 0., 0., 0.],\n",
              "        ...,\n",
              "        [0., 0., 0., ..., 0., 0., 0.],\n",
              "        [0., 0., 0., ..., 0., 0., 0.],\n",
              "        [0., 0., 0., ..., 0., 0., 0.]],\n",
              "\n",
              "       [[0., 0., 0., ..., 0., 0., 0.],\n",
              "        [0., 0., 0., ..., 0., 0., 0.],\n",
              "        [0., 0., 0., ..., 0., 0., 0.],\n",
              "        ...,\n",
              "        [0., 0., 0., ..., 0., 0., 0.],\n",
              "        [0., 0., 0., ..., 0., 0., 0.],\n",
              "        [0., 0., 0., ..., 0., 0., 0.]],\n",
              "\n",
              "       [[0., 0., 0., ..., 0., 0., 0.],\n",
              "        [0., 0., 0., ..., 0., 0., 0.],\n",
              "        [0., 0., 0., ..., 0., 0., 0.],\n",
              "        ...,\n",
              "        [0., 0., 0., ..., 0., 0., 0.],\n",
              "        [0., 0., 0., ..., 0., 0., 0.],\n",
              "        [0., 0., 0., ..., 0., 0., 0.]],\n",
              "\n",
              "       ...,\n",
              "\n",
              "       [[0., 0., 0., ..., 0., 0., 0.],\n",
              "        [0., 0., 0., ..., 0., 0., 0.],\n",
              "        [0., 0., 0., ..., 0., 0., 0.],\n",
              "        ...,\n",
              "        [0., 0., 0., ..., 0., 0., 0.],\n",
              "        [0., 0., 0., ..., 0., 0., 0.],\n",
              "        [0., 0., 0., ..., 0., 0., 0.]],\n",
              "\n",
              "       [[0., 0., 0., ..., 0., 0., 0.],\n",
              "        [0., 0., 0., ..., 0., 0., 0.],\n",
              "        [0., 0., 0., ..., 0., 0., 0.],\n",
              "        ...,\n",
              "        [0., 0., 0., ..., 0., 0., 0.],\n",
              "        [0., 0., 0., ..., 0., 0., 0.],\n",
              "        [0., 0., 0., ..., 0., 0., 0.]],\n",
              "\n",
              "       [[0., 0., 0., ..., 0., 0., 0.],\n",
              "        [0., 0., 0., ..., 0., 0., 0.],\n",
              "        [0., 0., 0., ..., 0., 0., 0.],\n",
              "        ...,\n",
              "        [0., 0., 0., ..., 0., 0., 0.],\n",
              "        [0., 0., 0., ..., 0., 0., 0.],\n",
              "        [0., 0., 0., ..., 0., 0., 0.]]])>"
            ]
          },
          "metadata": {},
          "execution_count": 10
        }
      ]
    },
    {
      "cell_type": "code",
      "source": [
        "tf.convert_to_tensor(y_train)"
      ],
      "metadata": {
        "colab": {
          "base_uri": "https://localhost:8080/"
        },
        "id": "5Dth2N55o33Q",
        "outputId": "6ed62efa-0574-4269-d5bd-63667c2e1233"
      },
      "execution_count": null,
      "outputs": [
        {
          "output_type": "execute_result",
          "data": {
            "text/plain": [
              "<tf.Tensor: shape=(48000,), dtype=uint8, numpy=array([5, 0, 1, ..., 0, 0, 4], dtype=uint8)>"
            ]
          },
          "metadata": {},
          "execution_count": 11
        }
      ]
    },
    {
      "cell_type": "code",
      "source": [
        "x_train_subset = x_train[0:5000,:,:]\n",
        "x_train_subset_flat = x_train_subset.flatten().reshape(5000, 784)\n",
        "\n",
        "y_train_subset = y_train[0:5000]"
      ],
      "metadata": {
        "id": "m2tPN-1No3zr"
      },
      "execution_count": null,
      "outputs": []
    },
    {
      "cell_type": "markdown",
      "source": [
        "For this script only"
      ],
      "metadata": {
        "id": "L0JzceRGpWt2"
      }
    },
    {
      "cell_type": "code",
      "source": [
        "x_train1 = x_train.reshape(-1, 28,28, 1)\n",
        "x_test1 = x_test.reshape(-1, 28,28, 1)\n",
        "x_val1 = x_val.reshape(-1, 28,28, 1)"
      ],
      "metadata": {
        "id": "o4m9daJlo3qz"
      },
      "execution_count": null,
      "outputs": []
    },
    {
      "cell_type": "markdown",
      "source": [
        "### Load models"
      ],
      "metadata": {
        "id": "WLoNGjqQpc20"
      }
    },
    {
      "cell_type": "code",
      "source": [
        "model_D8 = keras.models.load_model('/content/gdrive/MyDrive/Colab Notebooks/MNIST_with_Keras/MNIST_models/model_D8')\n",
        "model_D128 = keras.models.load_model('/content/gdrive/MyDrive/Colab Notebooks/MNIST_with_Keras/MNIST_models/model_D128')\n",
        "model_overfit = keras.models.load_model('/content/gdrive/MyDrive/Colab Notebooks/MNIST_with_Keras/MNIST_models/model_overfit')\n",
        "model3 = keras.models.load_model('/content/gdrive/MyDrive/Colab Notebooks/MNIST_with_Keras/MNIST_models/model3')\n",
        "model4 = keras.models.load_model('/content/gdrive/MyDrive/Colab Notebooks/MNIST_with_Keras/MNIST_models/model4')\n",
        "model5 = keras.models.load_model('/content/gdrive/MyDrive/Colab Notebooks/MNIST_with_Keras/MNIST_models/model5')\n",
        "model5a = keras.models.load_model('/content/gdrive/MyDrive/Colab Notebooks/MNIST_with_Keras/MNIST_models/model5a')\n",
        "model5b = keras.models.load_model('/content/gdrive/MyDrive/Colab Notebooks/MNIST_with_Keras/MNIST_models/model5b')\n",
        "model5c = keras.models.load_model('/content/gdrive/MyDrive/Colab Notebooks/MNIST_with_Keras/MNIST_models/model5c')\n",
        "model6 = keras.models.load_model('/content/gdrive/MyDrive/Colab Notebooks/MNIST_with_Keras/MNIST_models/model6')\n",
        "model7 = keras.models.load_model('/content/gdrive/MyDrive/Colab Notebooks/MNIST_with_Keras/MNIST_models/model7')"
      ],
      "metadata": {
        "colab": {
          "base_uri": "https://localhost:8080/"
        },
        "id": "lAKnuMO3pZR0",
        "outputId": "07c03e46-b33c-491d-b630-77d520629391"
      },
      "execution_count": null,
      "outputs": [
        {
          "output_type": "stream",
          "name": "stdout",
          "text": [
            "WARNING:tensorflow:SavedModel saved prior to TF 2.5 detected when loading Keras model. Please ensure that you are saving the model with model.save() or tf.keras.models.save_model(), *NOT* tf.saved_model.save(). To confirm, there should be a file named \"keras_metadata.pb\" in the SavedModel directory.\n",
            "WARNING:tensorflow:SavedModel saved prior to TF 2.5 detected when loading Keras model. Please ensure that you are saving the model with model.save() or tf.keras.models.save_model(), *NOT* tf.saved_model.save(). To confirm, there should be a file named \"keras_metadata.pb\" in the SavedModel directory.\n",
            "WARNING:tensorflow:SavedModel saved prior to TF 2.5 detected when loading Keras model. Please ensure that you are saving the model with model.save() or tf.keras.models.save_model(), *NOT* tf.saved_model.save(). To confirm, there should be a file named \"keras_metadata.pb\" in the SavedModel directory.\n",
            "WARNING:tensorflow:SavedModel saved prior to TF 2.5 detected when loading Keras model. Please ensure that you are saving the model with model.save() or tf.keras.models.save_model(), *NOT* tf.saved_model.save(). To confirm, there should be a file named \"keras_metadata.pb\" in the SavedModel directory.\n",
            "WARNING:tensorflow:SavedModel saved prior to TF 2.5 detected when loading Keras model. Please ensure that you are saving the model with model.save() or tf.keras.models.save_model(), *NOT* tf.saved_model.save(). To confirm, there should be a file named \"keras_metadata.pb\" in the SavedModel directory.\n",
            "WARNING:tensorflow:SavedModel saved prior to TF 2.5 detected when loading Keras model. Please ensure that you are saving the model with model.save() or tf.keras.models.save_model(), *NOT* tf.saved_model.save(). To confirm, there should be a file named \"keras_metadata.pb\" in the SavedModel directory.\n",
            "WARNING:tensorflow:SavedModel saved prior to TF 2.5 detected when loading Keras model. Please ensure that you are saving the model with model.save() or tf.keras.models.save_model(), *NOT* tf.saved_model.save(). To confirm, there should be a file named \"keras_metadata.pb\" in the SavedModel directory.\n",
            "WARNING:tensorflow:SavedModel saved prior to TF 2.5 detected when loading Keras model. Please ensure that you are saving the model with model.save() or tf.keras.models.save_model(), *NOT* tf.saved_model.save(). To confirm, there should be a file named \"keras_metadata.pb\" in the SavedModel directory.\n",
            "WARNING:tensorflow:SavedModel saved prior to TF 2.5 detected when loading Keras model. Please ensure that you are saving the model with model.save() or tf.keras.models.save_model(), *NOT* tf.saved_model.save(). To confirm, there should be a file named \"keras_metadata.pb\" in the SavedModel directory.\n",
            "WARNING:tensorflow:SavedModel saved prior to TF 2.5 detected when loading Keras model. Please ensure that you are saving the model with model.save() or tf.keras.models.save_model(), *NOT* tf.saved_model.save(). To confirm, there should be a file named \"keras_metadata.pb\" in the SavedModel directory.\n",
            "WARNING:tensorflow:SavedModel saved prior to TF 2.5 detected when loading Keras model. Please ensure that you are saving the model with model.save() or tf.keras.models.save_model(), *NOT* tf.saved_model.save(). To confirm, there should be a file named \"keras_metadata.pb\" in the SavedModel directory.\n"
          ]
        }
      ]
    },
    {
      "cell_type": "markdown",
      "source": [
        "## Visualisations"
      ],
      "metadata": {
        "id": "Uin3OJ4cprei"
      }
    },
    {
      "cell_type": "markdown",
      "source": [
        "### Neural network Activation Visualisation with tf-explain"
      ],
      "metadata": {
        "id": "95c1VISspv3_"
      }
    },
    {
      "cell_type": "markdown",
      "source": [
        "https://www.machinecurve.com/index.php/2020/04/27/neural-network-activation-visualization-with-tf-explain/"
      ],
      "metadata": {
        "id": "jZ4BXVeUpx2M"
      }
    },
    {
      "cell_type": "markdown",
      "source": [
        "Activation Visualisation for neural network interpretability with tf-explain and Keras. \n",
        "\n",
        "The tf-explain framework, Created by Sicara, is a collection of “Interpretability Methods for tf.keras models with Tensorflow 2.0”. \n",
        "\n",
        "Visualizing the activations during training for model 5 (conv layer with 64 filters)...\n",
        "See code for model5 where I installed tf-explain, imported it and set it up as a callback. \n",
        "\n",
        "The following shows the Activation Visualizations generated during training. Activation visualisation visualises how a given input comes out of a specific activation layer and what each subsequent feature map looks like. \n",
        "\n",
        "**Need to specify layer name.** "
      ],
      "metadata": {
        "id": "Mmhfb8njpxrD"
      }
    },
    {
      "cell_type": "code",
      "source": [
        "from tf_explain.callbacks.activations_visualization import ActivationsVisualizationCallback"
      ],
      "metadata": {
        "id": "4qDBNxg5pZP6"
      },
      "execution_count": null,
      "outputs": []
    },
    {
      "cell_type": "code",
      "source": [
        "%tensorboard --logdir '/content/gdrive/MyDrive/Colab Notebooks/MNIST_with_Keras/MNIST_models/tfexplain_visualizations/model5a'"
      ],
      "metadata": {
        "id": "c24hpOy7pZNR"
      },
      "execution_count": null,
      "outputs": []
    },
    {
      "cell_type": "markdown",
      "source": [
        "Visualizing the activations after training:\n",
        "\n",
        "Looking at sample index 1. Have to reshape the data. Merge the data entry and its label into a tuple. "
      ],
      "metadata": {
        "id": "wiOyQHXRqCPN"
      }
    },
    {
      "cell_type": "code",
      "source": [
        "from tf_explain.core.activations import ExtractActivations"
      ],
      "metadata": {
        "id": "sfPGWBU_pZKb"
      },
      "execution_count": null,
      "outputs": []
    },
    {
      "cell_type": "code",
      "source": [
        "# Define the Activation Visualization explainer\n",
        "index = 1\n",
        "image = x_test[index].reshape((1, 28, 28, 1))\n",
        "label = y_test[index]\n",
        "data = ([image], None) # don't seem to need label here\n",
        "explainer = ExtractActivations()\n",
        "explanation = explainer.explain(data, model5a, layers_name='vis_conv1')\n",
        "plt.imshow(explanation, cmap='gray')"
      ],
      "metadata": {
        "colab": {
          "base_uri": "https://localhost:8080/",
          "height": 286
        },
        "id": "lRdMStFLpZIR",
        "outputId": "31cec369-eb0b-49e2-d159-0eaee829a520"
      },
      "execution_count": null,
      "outputs": [
        {
          "output_type": "execute_result",
          "data": {
            "text/plain": [
              "<matplotlib.image.AxesImage at 0x7f6374941ed0>"
            ]
          },
          "metadata": {},
          "execution_count": 18
        },
        {
          "output_type": "display_data",
          "data": {
            "image/png": "[encoded data removed]",
            "text/plain": [
              "<Figure size 432x288 with 1 Axes>"
            ]
          },
          "metadata": {
            "needs_background": "light"
          }
        }
      ]
    },
    {
      "cell_type": "code",
      "source": [
        "# Define the Activation Visualization explainer\n",
        "index = 1\n",
        "image = x_test[index].reshape((1, 28, 28, 1))\n",
        "label = y_test[index]\n",
        "data = ([image], None) # don't seem to need label here\n",
        "explainer = ExtractActivations()\n",
        "explanation = explainer.explain(data, model5a, layers_name='vis_conv2')\n",
        "plt.imshow(explanation, cmap='gray')"
      ],
      "metadata": {
        "colab": {
          "base_uri": "https://localhost:8080/",
          "height": 285
        },
        "id": "W1kzYNsDpZE9",
        "outputId": "7f066a7b-1804-4fb6-9574-3666c00b923c"
      },
      "execution_count": null,
      "outputs": [
        {
          "output_type": "execute_result",
          "data": {
            "text/plain": [
              "<matplotlib.image.AxesImage at 0x7f6375c6d150>"
            ]
          },
          "metadata": {},
          "execution_count": 19
        },
        {
          "output_type": "display_data",
          "data": {
            "image/png": "[encoded data removed]",
            "text/plain": [
              "<Figure size 432x288 with 1 Axes>"
            ]
          },
          "metadata": {
            "needs_background": "light"
          }
        }
      ]
    },
    {
      "cell_type": "code",
      "source": [
        "# explainer.explain(data, model5a, layers_name='vis_conv1').shape # (156, 156)\n",
        "# explainer.explain(data, model5a, layers_name='vis_conv2').shape # (88, 88)\n",
        "explainer.explain(data, model5a, layers_name='vis_conv1')\n",
        "explainer.explain(data, model5a, layers_name='vis_conv2')"
      ],
      "metadata": {
        "colab": {
          "base_uri": "https://localhost:8080/"
        },
        "id": "lhFUDcKkpZCM",
        "outputId": "d7e9c455-ff95-4af1-e082-c11fed31bed2"
      },
      "execution_count": null,
      "outputs": [
        {
          "output_type": "execute_result",
          "data": {
            "text/plain": [
              "array([[ 0,  0,  0, ..., 10, 10, 10],\n",
              "       [ 0,  0,  0, ..., 10, 10, 10],\n",
              "       [ 0,  0,  0, ..., 10, 10, 10],\n",
              "       ...,\n",
              "       [ 5,  5,  5, ...,  0,  0,  0],\n",
              "       [ 5,  5,  5, ...,  0,  0,  0],\n",
              "       [ 5,  5,  5, ...,  0,  0,  0]], dtype=uint8)"
            ]
          },
          "metadata": {},
          "execution_count": 20
        },
        {
          "output_type": "execute_result",
          "data": {
            "text/plain": [
              "array([[  0,   0,   0, ...,  21,   0,   0],\n",
              "       [  0,   0,   0, ...,  15,   0,   0],\n",
              "       [  0,   0,   0, ...,   3,   0,   0],\n",
              "       ...,\n",
              "       [  0, 136, 106, ...,   0,   0,   0],\n",
              "       [  0,  79, 122, ...,   0,   0,   0],\n",
              "       [  0,   4,   5, ...,   0,   0,   0]], dtype=uint8)"
            ]
          },
          "metadata": {},
          "execution_count": 20
        }
      ]
    },
    {
      "cell_type": "markdown",
      "source": [
        "### Visualising gradient importance with Vanilla Gradients and tf-explain"
      ],
      "metadata": {
        "id": "rfFAd4HjqgGL"
      }
    },
    {
      "cell_type": "markdown",
      "source": [
        "https://www.machinecurve.com/index.php/2020/05/02/visualizing-gradient-importance-with-vanilla-gradients-and-tf-explain/\n",
        "\n",
        "**Vanilla Gradients:**\n",
        "\n",
        "Visualize gradients importance on input image. Vanilla gradients can be used to determine which pixels of an image contribute most to the outcome. \n",
        "\n",
        "**Need to specify class.** \n",
        "\n",
        "https://github.com/sicara/tf-explain#vanilla-gradients\n",
        "\n"
      ],
      "metadata": {
        "id": "ZTiaZrAWqf-A"
      }
    },
    {
      "cell_type": "markdown",
      "source": [
        "Further detail: \n",
        "\n",
        "https://medium.com/@thelastalias/saliency-maps-for-deep-learning-part-1-vanilla-gradient-1d0665de3284#:~:text=Vanilla%20Gradient%20is%20a%20saliency,debug%20and%20interpret%20your%20classifiers.\n",
        "\n",
        "Vanilla Gradient algorithm:\n",
        "1) forward pass with data\n",
        "2) backward pass to input layer to get the gradient\n",
        "3) render the gradient as a normalized heatmap\n",
        "\n",
        "Backpropagation normally stops at the second layer during training for efficiency as you can’t change your input. Crucially, however, Vanilla Gradient continues to backprop to the input layer to see which pixels would affect our output the most. That is, to see which pixels are most salient. \n",
        "\n",
        "The backpropagation step here gives us good saliency clues because it calculates the gradient of the given output class with respect to the input image. "
      ],
      "metadata": {
        "id": "1nKAmUkqqfz6"
      }
    },
    {
      "cell_type": "markdown",
      "source": [
        "Applying vanilla gradients during training"
      ],
      "metadata": {
        "id": "H4cMqLagqfq3"
      }
    },
    {
      "cell_type": "code",
      "source": [
        "from tf_explain.callbacks.vanilla_gradients import VanillaGradientsCallback"
      ],
      "metadata": {
        "id": "f1OwfgkRqIOy"
      },
      "execution_count": null,
      "outputs": []
    },
    {
      "cell_type": "code",
      "source": [
        "%tensorboard --logdir '/content/gdrive/MyDrive/Colab Notebooks/MNIST_with_Keras/MNIST_models/tfexplain_visualizations/model5b'"
      ],
      "metadata": {
        "id": "-U4t0H7YqIL_"
      },
      "execution_count": null,
      "outputs": []
    },
    {
      "cell_type": "markdown",
      "source": [
        "Applying Vanilla Gradients to new data (after training)\n",
        "\n",
        "First we will feed it an image corresponding to the correct class specified, to see which parts of the image contribute most to the output. This tells you something about whether the correct parts of the image contribute to the correct class output.\n",
        "\n",
        "Second we will set a class to explain, and feed it an image corresponding to an incorrect class. The output image tells you something about what parts of the image (which is the wrong class) contribute to the output mostly, i.e. to the error mostly."
      ],
      "metadata": {
        "id": "oRXj9Fkzq0t6"
      }
    },
    {
      "cell_type": "code",
      "source": [
        "from tf_explain.core.vanilla_gradients import VanillaGradients"
      ],
      "metadata": {
        "id": "AUZjcCTbqII2"
      },
      "execution_count": null,
      "outputs": []
    },
    {
      "cell_type": "code",
      "source": [
        "sample = 2\n",
        "sample_image = x_test[sample].reshape((1, 28, 28, 1)).reshape(28, 28)\n",
        "label = y_test[sample]\n",
        "\n",
        "explainer = VanillaGradients()\n",
        "sample_array = (np.array([x_test.reshape(-1, 28, 28, 1)[sample]]), None) \n",
        "explanation = explainer.explain(sample_array, model5b, class_index=7) # 1 causes some sort of explosion??\n",
        "# 4, 8 activated also\n",
        "\n",
        "fig, (ax1,ax2,ax3) = plt.subplots(1,3, figsize=(18,6))\n",
        "\n",
        "ax1.set_title('Input')\n",
        "ax1.imshow(sample_image, cmap='gray')\n",
        "\n",
        "ax2.set_title('Explanation')\n",
        "ax2.imshow(explanation)\n",
        "\n",
        "ax3.set_title('Overlay')\n",
        "ax3.imshow(sample_image, cmap='gray')\n",
        "ax3.imshow(explanation, alpha=0.5)"
      ],
      "metadata": {
        "colab": {
          "base_uri": "https://localhost:8080/",
          "height": 410
        },
        "id": "unV_ZRbcq7T9",
        "outputId": "be9662a6-86e6-4748-a4d4-a5278ef90a51"
      },
      "execution_count": null,
      "outputs": [
        {
          "output_type": "stream",
          "name": "stderr",
          "text": [
            "/usr/local/lib/python3.7/dist-packages/ipykernel_launcher.py:7: UserWarning: Unsupported model architecture for VanillaGradients. The last two layers of the model should be: a layer which computes class scores with no activation, followed by an activation layer.\n",
            "  import sys\n"
          ]
        },
        {
          "output_type": "execute_result",
          "data": {
            "text/plain": [
              "Text(0.5, 1.0, 'Input')"
            ]
          },
          "metadata": {},
          "execution_count": 24
        },
        {
          "output_type": "execute_result",
          "data": {
            "text/plain": [
              "<matplotlib.image.AxesImage at 0x7f637494e950>"
            ]
          },
          "metadata": {},
          "execution_count": 24
        },
        {
          "output_type": "execute_result",
          "data": {
            "text/plain": [
              "Text(0.5, 1.0, 'Explanation')"
            ]
          },
          "metadata": {},
          "execution_count": 24
        },
        {
          "output_type": "execute_result",
          "data": {
            "text/plain": [
              "<matplotlib.image.AxesImage at 0x7f6375cb9d50>"
            ]
          },
          "metadata": {},
          "execution_count": 24
        },
        {
          "output_type": "execute_result",
          "data": {
            "text/plain": [
              "Text(0.5, 1.0, 'Overlay')"
            ]
          },
          "metadata": {},
          "execution_count": 24
        },
        {
          "output_type": "execute_result",
          "data": {
            "text/plain": [
              "<matplotlib.image.AxesImage at 0x7f637492e450>"
            ]
          },
          "metadata": {},
          "execution_count": 24
        },
        {
          "output_type": "execute_result",
          "data": {
            "text/plain": [
              "<matplotlib.image.AxesImage at 0x7f6375c928d0>"
            ]
          },
          "metadata": {},
          "execution_count": 24
        },
        {
          "output_type": "display_data",
          "data": {
            "image/png": "[encoded data removed]",
            "text/plain": [
              "<Figure size 1296x432 with 3 Axes>"
            ]
          },
          "metadata": {
            "needs_background": "light"
          }
        }
      ]
    },
    {
      "cell_type": "markdown",
      "source": [
        "The first plot shows the sample you’re trying to explain your model with – and the second shows which parts of the sample contribute most to the class output."
      ],
      "metadata": {
        "id": "ReHPAkicrGrf"
      }
    },
    {
      "cell_type": "markdown",
      "source": [
        "Now for use case 2 – explaining the error. Suppose that we set class_index equal to some class in our explainer (say the number 4, as the MNIST dataset has 10 classes), and feed it a 9, we see:"
      ],
      "metadata": {
        "id": "wsUE8sDwrF4b"
      }
    },
    {
      "cell_type": "code",
      "source": [
        "sample = 9\n",
        "sample_image = x_test[sample].reshape((1, 28, 28, 1)).reshape(28, 28)\n",
        "label = y_test[sample]\n",
        "\n",
        "explainer = VanillaGradients()\n",
        "sample_array = (np.array([x_test.reshape(-1, 28, 28, 1)[sample]]), None)\n",
        "explanation = explainer.explain(sample_array, model5b, class_index=4)\n",
        "# 9 correctly actiaved also\n",
        "\n",
        "fig, (ax1,ax2,ax3) = plt.subplots(1,3, figsize=(18,6))\n",
        "\n",
        "ax1.set_title('Input')\n",
        "ax1.imshow(sample_image, cmap='gray')\n",
        "\n",
        "ax2.set_title('Explanation')\n",
        "ax2.imshow(explanation)\n",
        "\n",
        "ax3.set_title('Overlay')\n",
        "ax3.imshow(sample_image, cmap='gray')\n",
        "ax3.imshow(explanation, alpha=0.5)"
      ],
      "metadata": {
        "colab": {
          "base_uri": "https://localhost:8080/",
          "height": 410
        },
        "id": "AlfrTUj7q7IP",
        "outputId": "9be2f4bf-d906-4428-c4fd-35f6c09bab03"
      },
      "execution_count": null,
      "outputs": [
        {
          "output_type": "stream",
          "name": "stderr",
          "text": [
            "/usr/local/lib/python3.7/dist-packages/ipykernel_launcher.py:7: UserWarning: Unsupported model architecture for VanillaGradients. The last two layers of the model should be: a layer which computes class scores with no activation, followed by an activation layer.\n",
            "  import sys\n"
          ]
        },
        {
          "output_type": "execute_result",
          "data": {
            "text/plain": [
              "Text(0.5, 1.0, 'Input')"
            ]
          },
          "metadata": {},
          "execution_count": 25
        },
        {
          "output_type": "execute_result",
          "data": {
            "text/plain": [
              "<matplotlib.image.AxesImage at 0x7f6376125c50>"
            ]
          },
          "metadata": {},
          "execution_count": 25
        },
        {
          "output_type": "execute_result",
          "data": {
            "text/plain": [
              "Text(0.5, 1.0, 'Explanation')"
            ]
          },
          "metadata": {},
          "execution_count": 25
        },
        {
          "output_type": "execute_result",
          "data": {
            "text/plain": [
              "<matplotlib.image.AxesImage at 0x7f6374943f10>"
            ]
          },
          "metadata": {},
          "execution_count": 25
        },
        {
          "output_type": "execute_result",
          "data": {
            "text/plain": [
              "Text(0.5, 1.0, 'Overlay')"
            ]
          },
          "metadata": {},
          "execution_count": 25
        },
        {
          "output_type": "execute_result",
          "data": {
            "text/plain": [
              "<matplotlib.image.AxesImage at 0x7f6375a64ad0>"
            ]
          },
          "metadata": {},
          "execution_count": 25
        },
        {
          "output_type": "execute_result",
          "data": {
            "text/plain": [
              "<matplotlib.image.AxesImage at 0x7f6375a82e10>"
            ]
          },
          "metadata": {},
          "execution_count": 25
        },
        {
          "output_type": "display_data",
          "data": {
            "image/png": "[encoded data removed]",
            "text/plain": [
              "<Figure size 1296x432 with 3 Axes>"
            ]
          },
          "metadata": {
            "needs_background": "light"
          }
        }
      ]
    },
    {
      "cell_type": "code",
      "source": [
        "sample = 9\n",
        "sample_image = x_test[sample].reshape((1, 28, 28, 1)).reshape(28, 28)\n",
        "label = y_test[sample]\n",
        "\n",
        "explainer = VanillaGradients()\n",
        "sample_array = (np.array([x_test.reshape(-1, 28, 28, 1)[sample]]), None)\n",
        "explanation = explainer.explain(sample_array, model5b, class_index=9)\n",
        "# 9 correctly actiaved also\n",
        "\n",
        "fig, (ax1,ax2,ax3) = plt.subplots(1,3, figsize=(18,6))\n",
        "\n",
        "ax1.set_title('Input')\n",
        "ax1.imshow(sample_image, cmap='gray')\n",
        "\n",
        "ax2.set_title('Explanation')\n",
        "ax2.imshow(explanation)\n",
        "\n",
        "ax3.set_title('Overlay')\n",
        "ax3.imshow(sample_image, cmap='gray')\n",
        "ax3.imshow(explanation, alpha=0.5)"
      ],
      "metadata": {
        "colab": {
          "base_uri": "https://localhost:8080/",
          "height": 410
        },
        "id": "G9vk3MjkrTf3",
        "outputId": "b2c97be9-636f-471b-8f9f-1dfeb6ce5046"
      },
      "execution_count": null,
      "outputs": [
        {
          "output_type": "stream",
          "name": "stderr",
          "text": [
            "/usr/local/lib/python3.7/dist-packages/ipykernel_launcher.py:7: UserWarning: Unsupported model architecture for VanillaGradients. The last two layers of the model should be: a layer which computes class scores with no activation, followed by an activation layer.\n",
            "  import sys\n"
          ]
        },
        {
          "output_type": "execute_result",
          "data": {
            "text/plain": [
              "Text(0.5, 1.0, 'Input')"
            ]
          },
          "metadata": {},
          "execution_count": 26
        },
        {
          "output_type": "execute_result",
          "data": {
            "text/plain": [
              "<matplotlib.image.AxesImage at 0x7f6375a14110>"
            ]
          },
          "metadata": {},
          "execution_count": 26
        },
        {
          "output_type": "execute_result",
          "data": {
            "text/plain": [
              "Text(0.5, 1.0, 'Explanation')"
            ]
          },
          "metadata": {},
          "execution_count": 26
        },
        {
          "output_type": "execute_result",
          "data": {
            "text/plain": [
              "<matplotlib.image.AxesImage at 0x7f6374815dd0>"
            ]
          },
          "metadata": {},
          "execution_count": 26
        },
        {
          "output_type": "execute_result",
          "data": {
            "text/plain": [
              "Text(0.5, 1.0, 'Overlay')"
            ]
          },
          "metadata": {},
          "execution_count": 26
        },
        {
          "output_type": "execute_result",
          "data": {
            "text/plain": [
              "<matplotlib.image.AxesImage at 0x7f637480e110>"
            ]
          },
          "metadata": {},
          "execution_count": 26
        },
        {
          "output_type": "execute_result",
          "data": {
            "text/plain": [
              "<matplotlib.image.AxesImage at 0x7f63747aed50>"
            ]
          },
          "metadata": {},
          "execution_count": 26
        },
        {
          "output_type": "display_data",
          "data": {
            "image/png": "[encoded data removed]",
            "text/plain": [
              "<Figure size 1296x432 with 3 Axes>"
            ]
          },
          "metadata": {
            "needs_background": "light"
          }
        }
      ]
    },
    {
      "cell_type": "markdown",
      "source": [
        "It seems that the distinction is not so strong. Nevertheless, you can still use Vanilla Gradients to determine which parts of the input contribute to the output the most."
      ],
      "metadata": {
        "id": "hkOa9UCNrdZK"
      }
    },
    {
      "cell_type": "markdown",
      "source": [
        "##### Other examples"
      ],
      "metadata": {
        "id": "GvTYeRHmrc_K"
      }
    },
    {
      "cell_type": "markdown",
      "source": [
        "Here feeding a 4, activates nothing for class 4..."
      ],
      "metadata": {
        "id": "DubvRYwZriyt"
      }
    },
    {
      "cell_type": "code",
      "source": [
        "# sample = 4 \n",
        "# sample = 19\n",
        "# sample = 24\n",
        "# sample = 27\n",
        "# sample = 33 ## what??\n",
        "sample = 42\n",
        "sample_image = x_test[sample].reshape((1, 28, 28, 1)).reshape(28, 28)\n",
        "label = y_test[sample]\n",
        "\n",
        "explainer = VanillaGradients()\n",
        "sample_array = (np.array([x_test.reshape(-1, 28, 28, 1)[sample]]), None)\n",
        "explanation = explainer.explain(sample_array, model5b, class_index=4)\n",
        "# 9 activated the same\n",
        "\n",
        "fig, (ax1,ax2,ax3) = plt.subplots(1,3, figsize=(18,6))\n",
        "\n",
        "ax1.set_title('Input')\n",
        "ax1.imshow(sample_image, cmap='gray')\n",
        "\n",
        "ax2.set_title('Explanation')\n",
        "ax2.imshow(explanation)\n",
        "\n",
        "ax3.set_title('Overlay')\n",
        "ax3.imshow(sample_image, cmap='gray')\n",
        "ax3.imshow(explanation, alpha=0.5)"
      ],
      "metadata": {
        "colab": {
          "base_uri": "https://localhost:8080/",
          "height": 410
        },
        "id": "kD-n9MrirX-v",
        "outputId": "32e7a8a3-01ee-4331-a8fc-97393a043461"
      },
      "execution_count": null,
      "outputs": [
        {
          "output_type": "stream",
          "name": "stderr",
          "text": [
            "/usr/local/lib/python3.7/dist-packages/ipykernel_launcher.py:12: UserWarning: Unsupported model architecture for VanillaGradients. The last two layers of the model should be: a layer which computes class scores with no activation, followed by an activation layer.\n",
            "  if sys.path[0] == '':\n"
          ]
        },
        {
          "output_type": "execute_result",
          "data": {
            "text/plain": [
              "Text(0.5, 1.0, 'Input')"
            ]
          },
          "metadata": {},
          "execution_count": 27
        },
        {
          "output_type": "execute_result",
          "data": {
            "text/plain": [
              "<matplotlib.image.AxesImage at 0x7f63747ae490>"
            ]
          },
          "metadata": {},
          "execution_count": 27
        },
        {
          "output_type": "execute_result",
          "data": {
            "text/plain": [
              "Text(0.5, 1.0, 'Explanation')"
            ]
          },
          "metadata": {},
          "execution_count": 27
        },
        {
          "output_type": "execute_result",
          "data": {
            "text/plain": [
              "<matplotlib.image.AxesImage at 0x7f63746d3150>"
            ]
          },
          "metadata": {},
          "execution_count": 27
        },
        {
          "output_type": "execute_result",
          "data": {
            "text/plain": [
              "Text(0.5, 1.0, 'Overlay')"
            ]
          },
          "metadata": {},
          "execution_count": 27
        },
        {
          "output_type": "execute_result",
          "data": {
            "text/plain": [
              "<matplotlib.image.AxesImage at 0x7f63746be2d0>"
            ]
          },
          "metadata": {},
          "execution_count": 27
        },
        {
          "output_type": "execute_result",
          "data": {
            "text/plain": [
              "<matplotlib.image.AxesImage at 0x7f637465ed90>"
            ]
          },
          "metadata": {},
          "execution_count": 27
        },
        {
          "output_type": "display_data",
          "data": {
            "image/png": "[encoded data removed]",
            "text/plain": [
              "<Figure size 1296x432 with 3 Axes>"
            ]
          },
          "metadata": {
            "needs_background": "light"
          }
        }
      ]
    },
    {
      "cell_type": "code",
      "source": [
        "sample = 33 ## what??\n",
        "sample_image = x_test[sample].reshape((1, 28, 28, 1)).reshape(28, 28)\n",
        "label = y_test[sample]\n",
        "\n",
        "explainer = VanillaGradients()\n",
        "sample_array = (np.array([x_test.reshape(-1, 28, 28, 1)[sample]]), None)\n",
        "explanation = explainer.explain(sample_array, model5b, class_index=4) # no idea why this happens - exploding gradient?\n",
        "\n",
        "fig, (ax1,ax2,ax3) = plt.subplots(1,3, figsize=(18,6))\n",
        "\n",
        "ax1.set_title('Input')\n",
        "ax1.imshow(sample_image, cmap='gray')\n",
        "\n",
        "ax2.set_title('Explanation')\n",
        "ax2.imshow(explanation)\n",
        "\n",
        "ax3.set_title('Overlay')\n",
        "ax3.imshow(sample_image, cmap='gray')\n",
        "ax3.imshow(explanation, alpha=0.5)"
      ],
      "metadata": {
        "colab": {
          "base_uri": "https://localhost:8080/",
          "height": 410
        },
        "id": "-9-we2vnrq3m",
        "outputId": "4dac584f-4ecb-4399-8add-874b0d38a582"
      },
      "execution_count": null,
      "outputs": [
        {
          "output_type": "stream",
          "name": "stderr",
          "text": [
            "/usr/local/lib/python3.7/dist-packages/ipykernel_launcher.py:7: UserWarning: Unsupported model architecture for VanillaGradients. The last two layers of the model should be: a layer which computes class scores with no activation, followed by an activation layer.\n",
            "  import sys\n"
          ]
        },
        {
          "output_type": "execute_result",
          "data": {
            "text/plain": [
              "Text(0.5, 1.0, 'Input')"
            ]
          },
          "metadata": {},
          "execution_count": 28
        },
        {
          "output_type": "execute_result",
          "data": {
            "text/plain": [
              "<matplotlib.image.AxesImage at 0x7f637474ee50>"
            ]
          },
          "metadata": {},
          "execution_count": 28
        },
        {
          "output_type": "execute_result",
          "data": {
            "text/plain": [
              "Text(0.5, 1.0, 'Explanation')"
            ]
          },
          "metadata": {},
          "execution_count": 28
        },
        {
          "output_type": "execute_result",
          "data": {
            "text/plain": [
              "<matplotlib.image.AxesImage at 0x7f63745f72d0>"
            ]
          },
          "metadata": {},
          "execution_count": 28
        },
        {
          "output_type": "execute_result",
          "data": {
            "text/plain": [
              "Text(0.5, 1.0, 'Overlay')"
            ]
          },
          "metadata": {},
          "execution_count": 28
        },
        {
          "output_type": "execute_result",
          "data": {
            "text/plain": [
              "<matplotlib.image.AxesImage at 0x7f63745974d0>"
            ]
          },
          "metadata": {},
          "execution_count": 28
        },
        {
          "output_type": "execute_result",
          "data": {
            "text/plain": [
              "<matplotlib.image.AxesImage at 0x7f6374597550>"
            ]
          },
          "metadata": {},
          "execution_count": 28
        },
        {
          "output_type": "display_data",
          "data": {
            "image/png": "[encoded data removed]",
            "text/plain": [
              "<Figure size 1296x432 with 3 Axes>"
            ]
          },
          "metadata": {
            "needs_background": "light"
          }
        }
      ]
    },
    {
      "cell_type": "markdown",
      "source": [
        "Here is an unusual number 6 (I think?)"
      ],
      "metadata": {
        "id": "ltbMres7uPoa"
      }
    },
    {
      "cell_type": "code",
      "source": [
        "sample = 8\n",
        "sample_image = x_test[sample].reshape((1, 28, 28, 1)).reshape(28, 28)\n",
        "label = y_test[sample]\n",
        "\n",
        "explainer = VanillaGradients()\n",
        "sample_array = (np.array([x_test.reshape(-1, 28, 28, 1)[sample]]), None)\n",
        "explanation = explainer.explain(sample_array, model5b, class_index=6)\n",
        "\n",
        "fig, (ax1,ax2,ax3) = plt.subplots(1,3, figsize=(18,6))\n",
        "\n",
        "ax1.set_title('Input')\n",
        "ax1.imshow(sample_image, cmap='gray')\n",
        "\n",
        "ax2.set_title('Explanation')\n",
        "ax2.imshow(explanation)\n",
        "\n",
        "ax3.set_title('Overlay')\n",
        "ax3.imshow(sample_image, cmap='gray')\n",
        "ax3.imshow(explanation, alpha=0.5)"
      ],
      "metadata": {
        "colab": {
          "base_uri": "https://localhost:8080/",
          "height": 410
        },
        "id": "GhRfOsa5uJ6R",
        "outputId": "d28863f8-d322-47f9-88d0-89817ddd0573"
      },
      "execution_count": null,
      "outputs": [
        {
          "output_type": "stream",
          "name": "stderr",
          "text": [
            "/usr/local/lib/python3.7/dist-packages/ipykernel_launcher.py:7: UserWarning: Unsupported model architecture for VanillaGradients. The last two layers of the model should be: a layer which computes class scores with no activation, followed by an activation layer.\n",
            "  import sys\n"
          ]
        },
        {
          "output_type": "execute_result",
          "data": {
            "text/plain": [
              "Text(0.5, 1.0, 'Input')"
            ]
          },
          "metadata": {},
          "execution_count": 29
        },
        {
          "output_type": "execute_result",
          "data": {
            "text/plain": [
              "<matplotlib.image.AxesImage at 0x7f63743e0dd0>"
            ]
          },
          "metadata": {},
          "execution_count": 29
        },
        {
          "output_type": "execute_result",
          "data": {
            "text/plain": [
              "Text(0.5, 1.0, 'Explanation')"
            ]
          },
          "metadata": {},
          "execution_count": 29
        },
        {
          "output_type": "execute_result",
          "data": {
            "text/plain": [
              "<matplotlib.image.AxesImage at 0x7f63743e0c50>"
            ]
          },
          "metadata": {},
          "execution_count": 29
        },
        {
          "output_type": "execute_result",
          "data": {
            "text/plain": [
              "Text(0.5, 1.0, 'Overlay')"
            ]
          },
          "metadata": {},
          "execution_count": 29
        },
        {
          "output_type": "execute_result",
          "data": {
            "text/plain": [
              "<matplotlib.image.AxesImage at 0x7f63743e0c10>"
            ]
          },
          "metadata": {},
          "execution_count": 29
        },
        {
          "output_type": "execute_result",
          "data": {
            "text/plain": [
              "<matplotlib.image.AxesImage at 0x7f637445a290>"
            ]
          },
          "metadata": {},
          "execution_count": 29
        },
        {
          "output_type": "display_data",
          "data": {
            "image/png": "[encoded data removed]",
            "text/plain": [
              "<Figure size 1296x432 with 3 Axes>"
            ]
          },
          "metadata": {
            "needs_background": "light"
          }
        }
      ]
    },
    {
      "cell_type": "markdown",
      "source": [
        "This method seems to depend on the model training run, and also the exploding gradients seem to depend on model run. "
      ],
      "metadata": {
        "id": "GEHglwNbugsZ"
      }
    },
    {
      "cell_type": "markdown",
      "source": [
        "### Grad CAM (Gradient weighted Class Activation Maps) with tf-explain\n"
      ],
      "metadata": {
        "id": "gJPGGFSyugi6"
      }
    },
    {
      "cell_type": "markdown",
      "source": [
        "https://www.machinecurve.com/index.php/2019/11/28/visualizing-keras-cnn-attention-grad-cam-class-activation-maps/ \n",
        "\n",
        "Visualize how parts of the image affects neural network's output by looking into the activation maps\n",
        "\n",
        "It uses the gradients of any target concept, flowing into the final convolutional layer to produce a coarse localization map highlighting important regions in the image for predicting the concept. https://arxiv.org/abs/1610.02391ddddada\n",
        "\n",
        "They generate heatmaps at the convolutional level rather than the dense neural layer level, taking into account more spatial details.\n",
        "Saliency Maps, which – given some input image – tell you something about the importance of each pixel for generating the class decision, hence visualizing where the model looks at when deciding. This is achieved by mathematically asking the following question: how does the output of the saliency map change when changing its input? However, we can find suggestions for improvement with respect to saliency maps as they highlight many details in the image, but are not necessarily class discriminative. Class activation maps (or CAMs) solve this problem: they are highly class discriminative, exclusively highlighting the class regions for the class to be visualized. Traditional CAMs can only be used by a small class of ConvNets, i.e. those without densely-connected layers, directly passing forward the convolutional feature maps to the output layer. Grad-CAMs are a generalization of the CAM approach which can be used by any architecture, hence also the ones with densely-connected layers. \n",
        "\n",
        "**Need to specify layer name and class.** "
      ],
      "metadata": {
        "id": "o_Dual9CugWj"
      }
    },
    {
      "cell_type": "code",
      "source": [
        "from tf_explain.core.grad_cam import GradCAM"
      ],
      "metadata": {
        "id": "ZNZaPUmKuq9B"
      },
      "execution_count": null,
      "outputs": []
    },
    {
      "cell_type": "code",
      "source": [
        "sample = 0\n",
        "sample_image = x_test[sample].reshape((1, 28, 28, 1)).reshape(28, 28)\n",
        "label = y_test[sample]\n",
        "# Instantiation of the explainer\n",
        "explainer = GradCAM()\n",
        "sample_array = (np.array([x_test.reshape(-1, 28, 28, 1)[sample]]), None)\n",
        "# Call to explain() method\n",
        "explanation = explainer.explain(sample_array, model=model5c, class_index=7)\n",
        "\n",
        "fig, (ax1,ax2,ax3) = plt.subplots(1,3, figsize=(18,6))\n",
        "\n",
        "ax1.set_title('Input')\n",
        "ax1.imshow(sample_image, cmap='gray')\n",
        "\n",
        "ax2.set_title('Explanation')\n",
        "ax2.imshow(explanation)\n",
        "\n",
        "ax3.set_title('Overlay')\n",
        "ax3.imshow(sample_image, cmap='gray')\n",
        "ax3.imshow(explanation, alpha=0.5)"
      ],
      "metadata": {
        "colab": {
          "base_uri": "https://localhost:8080/",
          "height": 376
        },
        "id": "IDuDBZXRuq3p",
        "outputId": "8a6863cb-f7c3-41dd-cd4f-28c4c30cd525"
      },
      "execution_count": null,
      "outputs": [
        {
          "output_type": "execute_result",
          "data": {
            "text/plain": [
              "Text(0.5, 1.0, 'Input')"
            ]
          },
          "metadata": {},
          "execution_count": 31
        },
        {
          "output_type": "execute_result",
          "data": {
            "text/plain": [
              "<matplotlib.image.AxesImage at 0x7f637430f590>"
            ]
          },
          "metadata": {},
          "execution_count": 31
        },
        {
          "output_type": "execute_result",
          "data": {
            "text/plain": [
              "Text(0.5, 1.0, 'Explanation')"
            ]
          },
          "metadata": {},
          "execution_count": 31
        },
        {
          "output_type": "execute_result",
          "data": {
            "text/plain": [
              "<matplotlib.image.AxesImage at 0x7f637429ab90>"
            ]
          },
          "metadata": {},
          "execution_count": 31
        },
        {
          "output_type": "execute_result",
          "data": {
            "text/plain": [
              "Text(0.5, 1.0, 'Overlay')"
            ]
          },
          "metadata": {},
          "execution_count": 31
        },
        {
          "output_type": "execute_result",
          "data": {
            "text/plain": [
              "<matplotlib.image.AxesImage at 0x7f63745d1d50>"
            ]
          },
          "metadata": {},
          "execution_count": 31
        },
        {
          "output_type": "execute_result",
          "data": {
            "text/plain": [
              "<matplotlib.image.AxesImage at 0x7f637429ad10>"
            ]
          },
          "metadata": {},
          "execution_count": 31
        },
        {
          "output_type": "display_data",
          "data": {
            "image/png": "[encoded data removed]",
            "text/plain": [
              "<Figure size 1296x432 with 3 Axes>"
            ]
          },
          "metadata": {
            "needs_background": "light"
          }
        }
      ]
    },
    {
      "cell_type": "code",
      "source": [
        "sample = 42\n",
        "sample_image = x_test[sample].reshape((1, 28, 28, 1)).reshape(28, 28)\n",
        "label = y_test[sample]\n",
        "# Instantiation of the explainer\n",
        "explainer = GradCAM()\n",
        "sample_array = (np.array([x_test.reshape(-1, 28, 28, 1)[sample]]), None)\n",
        "# Call to explain() method\n",
        "explanation = explainer.explain(sample_array, model=model5c, class_index=4)\n",
        "\n",
        "fig, (ax1,ax2,ax3) = plt.subplots(1,3, figsize=(18,6))\n",
        "\n",
        "ax1.set_title('Input')\n",
        "ax1.imshow(sample_image, cmap='gray')\n",
        "\n",
        "ax2.set_title('Explanation')\n",
        "ax2.imshow(explanation)\n",
        "\n",
        "ax3.set_title('Overlay')\n",
        "ax3.imshow(sample_image, cmap='gray')\n",
        "ax3.imshow(explanation, alpha=0.5)"
      ],
      "metadata": {
        "colab": {
          "base_uri": "https://localhost:8080/",
          "height": 376
        },
        "id": "xpLAKg9XuqiH",
        "outputId": "1baa4958-07a3-484f-ead8-47f3aded7088"
      },
      "execution_count": null,
      "outputs": [
        {
          "output_type": "execute_result",
          "data": {
            "text/plain": [
              "Text(0.5, 1.0, 'Input')"
            ]
          },
          "metadata": {},
          "execution_count": 32
        },
        {
          "output_type": "execute_result",
          "data": {
            "text/plain": [
              "<matplotlib.image.AxesImage at 0x7f6374366190>"
            ]
          },
          "metadata": {},
          "execution_count": 32
        },
        {
          "output_type": "execute_result",
          "data": {
            "text/plain": [
              "Text(0.5, 1.0, 'Explanation')"
            ]
          },
          "metadata": {},
          "execution_count": 32
        },
        {
          "output_type": "execute_result",
          "data": {
            "text/plain": [
              "<matplotlib.image.AxesImage at 0x7f63741b7d50>"
            ]
          },
          "metadata": {},
          "execution_count": 32
        },
        {
          "output_type": "execute_result",
          "data": {
            "text/plain": [
              "Text(0.5, 1.0, 'Overlay')"
            ]
          },
          "metadata": {},
          "execution_count": 32
        },
        {
          "output_type": "execute_result",
          "data": {
            "text/plain": [
              "<matplotlib.image.AxesImage at 0x7f637419cd50>"
            ]
          },
          "metadata": {},
          "execution_count": 32
        },
        {
          "output_type": "execute_result",
          "data": {
            "text/plain": [
              "<matplotlib.image.AxesImage at 0x7f63741b7c90>"
            ]
          },
          "metadata": {},
          "execution_count": 32
        },
        {
          "output_type": "display_data",
          "data": {
            "image/png": "[encoded data removed]",
            "text/plain": [
              "<Figure size 1296x432 with 3 Axes>"
            ]
          },
          "metadata": {
            "needs_background": "light"
          }
        }
      ]
    },
    {
      "cell_type": "markdown",
      "source": [
        ""
      ],
      "metadata": {
        "id": "bf5iViaVufyV"
      }
    },
    {
      "cell_type": "code",
      "source": [
        "explanation0 = explainer.explain(sample_array, model=model5c, class_index=0)\n",
        "explanation1 = explainer.explain(sample_array, model=model5c, class_index=1)\n",
        "explanation2 = explainer.explain(sample_array, model=model5c, class_index=2)\n",
        "explanation3 = explainer.explain(sample_array, model=model5c, class_index=3)\n",
        "explanation4 = explainer.explain(sample_array, model=model5c, class_index=4)\n",
        "explanation5 = explainer.explain(sample_array, model=model5c, class_index=5)\n",
        "explanation6 = explainer.explain(sample_array, model=model5c, class_index=6)\n",
        "explanation7 = explainer.explain(sample_array, model=model5c, class_index=7)\n",
        "explanation8 = explainer.explain(sample_array, model=model5c, class_index=8)\n",
        "explanation9 = explainer.explain(sample_array, model=model5c, class_index=9)\n",
        "\n",
        "fig, [[ax0, ax1, ax2, ax3, ax4], [ax5, ax6, ax7, ax8, ax9]] = plt.subplots(2,5, figsize = (18,8))\n",
        "\n",
        "ax0.set_title('0')\n",
        "ax0.imshow(explanation0)\n",
        "ax1.set_title('1')\n",
        "ax1.imshow(explanation1)\n",
        "ax2.set_title('2')\n",
        "ax2.imshow(explanation2)\n",
        "ax3.set_title('3')\n",
        "ax3.imshow(explanation3)\n",
        "ax4.set_title('4')\n",
        "ax4.imshow(explanation4)\n",
        "ax5.set_title('5')\n",
        "ax5.imshow(explanation5)\n",
        "ax6.set_title('6')\n",
        "ax6.imshow(explanation6)\n",
        "ax7.set_title('7')\n",
        "ax7.imshow(explanation7)\n",
        "ax8.set_title('8')\n",
        "ax8.imshow(explanation8)\n",
        "ax9.set_title('9')\n",
        "ax9.imshow(explanation9)"
      ],
      "metadata": {
        "colab": {
          "base_uri": "https://localhost:8080/",
          "height": 526
        },
        "id": "3bWiBlfJuUhT",
        "outputId": "6452930a-3ca1-40a5-f961-6e0f8cd56354"
      },
      "execution_count": null,
      "outputs": [
        {
          "output_type": "execute_result",
          "data": {
            "text/plain": [
              "Text(0.5, 1.0, '0')"
            ]
          },
          "metadata": {},
          "execution_count": 33
        },
        {
          "output_type": "execute_result",
          "data": {
            "text/plain": [
              "<matplotlib.image.AxesImage at 0x7f63741d1150>"
            ]
          },
          "metadata": {},
          "execution_count": 33
        },
        {
          "output_type": "execute_result",
          "data": {
            "text/plain": [
              "Text(0.5, 1.0, '1')"
            ]
          },
          "metadata": {},
          "execution_count": 33
        },
        {
          "output_type": "execute_result",
          "data": {
            "text/plain": [
              "<matplotlib.image.AxesImage at 0x7f6373f13310>"
            ]
          },
          "metadata": {},
          "execution_count": 33
        },
        {
          "output_type": "execute_result",
          "data": {
            "text/plain": [
              "Text(0.5, 1.0, '2')"
            ]
          },
          "metadata": {},
          "execution_count": 33
        },
        {
          "output_type": "execute_result",
          "data": {
            "text/plain": [
              "<matplotlib.image.AxesImage at 0x7f63745f1a50>"
            ]
          },
          "metadata": {},
          "execution_count": 33
        },
        {
          "output_type": "execute_result",
          "data": {
            "text/plain": [
              "Text(0.5, 1.0, '3')"
            ]
          },
          "metadata": {},
          "execution_count": 33
        },
        {
          "output_type": "execute_result",
          "data": {
            "text/plain": [
              "<matplotlib.image.AxesImage at 0x7f6373f13710>"
            ]
          },
          "metadata": {},
          "execution_count": 33
        },
        {
          "output_type": "execute_result",
          "data": {
            "text/plain": [
              "Text(0.5, 1.0, '4')"
            ]
          },
          "metadata": {},
          "execution_count": 33
        },
        {
          "output_type": "execute_result",
          "data": {
            "text/plain": [
              "<matplotlib.image.AxesImage at 0x7f6374366c50>"
            ]
          },
          "metadata": {},
          "execution_count": 33
        },
        {
          "output_type": "execute_result",
          "data": {
            "text/plain": [
              "Text(0.5, 1.0, '5')"
            ]
          },
          "metadata": {},
          "execution_count": 33
        },
        {
          "output_type": "execute_result",
          "data": {
            "text/plain": [
              "<matplotlib.image.AxesImage at 0x7f637408f450>"
            ]
          },
          "metadata": {},
          "execution_count": 33
        },
        {
          "output_type": "execute_result",
          "data": {
            "text/plain": [
              "Text(0.5, 1.0, '6')"
            ]
          },
          "metadata": {},
          "execution_count": 33
        },
        {
          "output_type": "execute_result",
          "data": {
            "text/plain": [
              "<matplotlib.image.AxesImage at 0x7f6373fc46d0>"
            ]
          },
          "metadata": {},
          "execution_count": 33
        },
        {
          "output_type": "execute_result",
          "data": {
            "text/plain": [
              "Text(0.5, 1.0, '7')"
            ]
          },
          "metadata": {},
          "execution_count": 33
        },
        {
          "output_type": "execute_result",
          "data": {
            "text/plain": [
              "<matplotlib.image.AxesImage at 0x7f6373fc4690>"
            ]
          },
          "metadata": {},
          "execution_count": 33
        },
        {
          "output_type": "execute_result",
          "data": {
            "text/plain": [
              "Text(0.5, 1.0, '8')"
            ]
          },
          "metadata": {},
          "execution_count": 33
        },
        {
          "output_type": "execute_result",
          "data": {
            "text/plain": [
              "<matplotlib.image.AxesImage at 0x7f6373f13b90>"
            ]
          },
          "metadata": {},
          "execution_count": 33
        },
        {
          "output_type": "execute_result",
          "data": {
            "text/plain": [
              "Text(0.5, 1.0, '9')"
            ]
          },
          "metadata": {},
          "execution_count": 33
        },
        {
          "output_type": "execute_result",
          "data": {
            "text/plain": [
              "<matplotlib.image.AxesImage at 0x7f6373ef12d0>"
            ]
          },
          "metadata": {},
          "execution_count": 33
        },
        {
          "output_type": "display_data",
          "data": {
            "image/png": "[encoded data removed]",
            "text/plain": [
              "<Figure size 1296x576 with 10 Axes>"
            ]
          },
          "metadata": {
            "needs_background": "light"
          }
        }
      ]
    },
    {
      "cell_type": "markdown",
      "source": [
        "### Activation Maximization with TensorFlow 2 based Keras for visualising model inputs"
      ],
      "metadata": {
        "id": "osF0sVsFwc0r"
      }
    },
    {
      "cell_type": "markdown",
      "source": [
        "https://www.machinecurve.com/index.php/2019/11/18/visualizing-keras-model-inputs-with-activation-maximization/"
      ],
      "metadata": {
        "id": "5EREbXxWwdOF"
      }
    },
    {
      "cell_type": "markdown",
      "source": [
        "You visualize what a class in your trained model looks like by inverting the process of looking at what the model thinks is the best visual representation of class ‘4’ say.  You basically visualize what a class in your trained model looks like by inverting the process mentioned above. \n",
        "This time, the weights and the desired output are constant, and the input will be modified as long as neurons that yield the class are maximized. \n",
        "You’ll find what the model thinks it sees when you’re talking about some class."
      ],
      "metadata": {
        "id": "BiLP0dwDwixR"
      }
    },
    {
      "cell_type": "code",
      "source": [
        "pip install tf-keras-vis"
      ],
      "metadata": {
        "colab": {
          "base_uri": "https://localhost:8080/"
        },
        "id": "vOSIF49qu66c",
        "outputId": "16a67fe9-a2b0-4dc2-ab0d-dc83c776bc8f"
      },
      "execution_count": null,
      "outputs": [
        {
          "output_type": "stream",
          "name": "stdout",
          "text": [
            "Collecting tf-keras-vis\n",
            "  Downloading tf_keras_vis-0.8.0-py3-none-any.whl (53 kB)\n",
            "\u001b[?25l\r\u001b[K     |██████▏                         | 10 kB 24.0 MB/s eta 0:00:01\r\u001b[K     |████████████▎                   | 20 kB 31.1 MB/s eta 0:00:01\r\u001b[K     |██████████████████▌             | 30 kB 37.0 MB/s eta 0:00:01\r\u001b[K     |████████████████████████▋       | 40 kB 34.8 MB/s eta 0:00:01\r\u001b[K     |██████████████████████████████▊ | 51 kB 35.7 MB/s eta 0:00:01\r\u001b[K     |████████████████████████████████| 53 kB 1.6 MB/s \n",
            "\u001b[?25hRequirement already satisfied: importlib-metadata in /usr/local/lib/python3.7/dist-packages (from tf-keras-vis) (4.8.2)\n",
            "Requirement already satisfied: packaging in /usr/local/lib/python3.7/dist-packages (from tf-keras-vis) (21.3)\n",
            "Requirement already satisfied: imageio in /usr/local/lib/python3.7/dist-packages (from tf-keras-vis) (2.4.1)\n",
            "Requirement already satisfied: pillow in /usr/local/lib/python3.7/dist-packages (from tf-keras-vis) (7.1.2)\n",
            "Requirement already satisfied: scipy in /usr/local/lib/python3.7/dist-packages (from tf-keras-vis) (1.4.1)\n",
            "Collecting deprecated\n",
            "  Downloading Deprecated-1.2.13-py2.py3-none-any.whl (9.6 kB)\n",
            "Requirement already satisfied: wrapt<2,>=1.10 in /usr/local/lib/python3.7/dist-packages (from deprecated->tf-keras-vis) (1.13.3)\n",
            "Requirement already satisfied: numpy in /usr/local/lib/python3.7/dist-packages (from imageio->tf-keras-vis) (1.19.5)\n",
            "Requirement already satisfied: zipp>=0.5 in /usr/local/lib/python3.7/dist-packages (from importlib-metadata->tf-keras-vis) (3.6.0)\n",
            "Requirement already satisfied: typing-extensions>=3.6.4 in /usr/local/lib/python3.7/dist-packages (from importlib-metadata->tf-keras-vis) (3.10.0.2)\n",
            "Requirement already satisfied: pyparsing!=3.0.5,>=2.0.2 in /usr/local/lib/python3.7/dist-packages (from packaging->tf-keras-vis) (3.0.6)\n",
            "Installing collected packages: deprecated, tf-keras-vis\n",
            "Successfully installed deprecated-1.2.13 tf-keras-vis-0.8.0\n"
          ]
        }
      ]
    },
    {
      "cell_type": "code",
      "source": [
        "from tf_keras_vis.activation_maximization import ActivationMaximization"
      ],
      "metadata": {
        "id": "8VLjRLaBwp0k"
      },
      "execution_count": null,
      "outputs": []
    },
    {
      "cell_type": "code",
      "source": [
        "def loss(output):\n",
        "  return (output[0, 0], output[1, 1], output[2, 2], output[3, 3], output[4, 4], output[5, 5], output[6, 6], output[7, 7], output[8, 8], output[9, 9])\n",
        "\n",
        "def model_modifier(m):\n",
        "    m.layers[-1].activation = tf.keras.activations.linear"
      ],
      "metadata": {
        "id": "-Z_7j6D4wr7y"
      },
      "execution_count": null,
      "outputs": []
    },
    {
      "cell_type": "code",
      "source": [
        "visualize_activation = ActivationMaximization(model5, model_modifier)\n",
        "seed_input = tf.random.uniform((10, 28, 28, 1), 0, 255)"
      ],
      "metadata": {
        "id": "MDbiasNwwrzR"
      },
      "execution_count": null,
      "outputs": []
    },
    {
      "cell_type": "markdown",
      "source": [
        "Next, we prepare our visualization code, by performing two things:\n",
        "\n",
        "Defining a loss function, which describes the outputs that must be used in the backwrds computation. Here, output[i, c] is used multiple times, where i represents the index of the output, and c the class index that must be visualized there. For example, in MNIST, your number 2 has class index 2.\n",
        "\n",
        "Defining a model_modifier. This swaps the Softmax activation function in our trained model, which is common for multiclass classification problems, with the linear activation function. Why this is necessary can be seen in the images below. Since you’re essentially looking backwards, from outputs and fixed weights to inputs, you need a free path from outputs back to inputs. Softmax disturbs this free path by essentially transforming your model data in intricate ways, which makes the activation maximizations no longer understandable to humans."
      ],
      "metadata": {
        "id": "OQEAjr-lx2v6"
      }
    },
    {
      "cell_type": "markdown",
      "source": [
        "Initializing ActivationMaximization with our model and the model_modifier which swaps Softmax for Linear.\n",
        "\n",
        "Generating a random seed for each activation, to ensure that its initialization is not biased.\n",
        "\n",
        "Generate the activations with visualize_activation and our self-defined loss function, the seed_input seeds and using 512 steps. The latter is recommended by tf-keras-vis docs for “generating good images”.\n",
        "\n",
        "Finally, converting the activations into images, and visualizing them."
      ],
      "metadata": {
        "id": "AMnS07aUx-ZR"
      }
    },
    {
      "cell_type": "code",
      "source": [
        "\n",
        "# Generate activations and convert into images\n",
        "activations = visualize_activation(loss, seed_input=seed_input, steps=512)\n",
        "images = [activation.astype(np.float32) for activation in activations]\n",
        "\n",
        "# Visualize each image\n",
        "for i in range(0, len(images)):\n",
        "  visualization = images[i].reshape(28,28)\n",
        "  plt.imshow(visualization)\n",
        "  plt.title(f'MNIST target = {i}')\n",
        "  plt.show()"
      ],
      "metadata": {
        "colab": {
          "base_uri": "https://localhost:8080/",
          "height": 1000
        },
        "id": "5ZcEeQbEx9uC",
        "outputId": "f5fc898e-3a39-4415-d358-5e08c37dd6d2"
      },
      "execution_count": null,
      "outputs": [
        {
          "output_type": "execute_result",
          "data": {
            "text/plain": [
              "<matplotlib.image.AxesImage at 0x7f6373482e10>"
            ]
          },
          "metadata": {},
          "execution_count": 38
        },
        {
          "output_type": "execute_result",
          "data": {
            "text/plain": [
              "Text(0.5, 1.0, 'MNIST target = 0')"
            ]
          },
          "metadata": {},
          "execution_count": 38
        },
        {
          "output_type": "display_data",
          "data": {
            "image/png": "[encoded data removed]",
            "text/plain": [
              "<Figure size 432x288 with 1 Axes>"
            ]
          },
          "metadata": {
            "needs_background": "light"
          }
        },
        {
          "output_type": "execute_result",
          "data": {
            "text/plain": [
              "<matplotlib.image.AxesImage at 0x7f63733ebcd0>"
            ]
          },
          "metadata": {},
          "execution_count": 38
        },
        {
          "output_type": "execute_result",
          "data": {
            "text/plain": [
              "Text(0.5, 1.0, 'MNIST target = 1')"
            ]
          },
          "metadata": {},
          "execution_count": 38
        },
        {
          "output_type": "display_data",
          "data": {
            "image/png": "[encoded data removed]",
            "text/plain": [
              "<Figure size 432x288 with 1 Axes>"
            ]
          },
          "metadata": {
            "needs_background": "light"
          }
        },
        {
          "output_type": "execute_result",
          "data": {
            "text/plain": [
              "<matplotlib.image.AxesImage at 0x7f6373355750>"
            ]
          },
          "metadata": {},
          "execution_count": 38
        },
        {
          "output_type": "execute_result",
          "data": {
            "text/plain": [
              "Text(0.5, 1.0, 'MNIST target = 2')"
            ]
          },
          "metadata": {},
          "execution_count": 38
        },
        {
          "output_type": "display_data",
          "data": {
            "image/png": "[encoded data removed]",
            "text/plain": [
              "<Figure size 432x288 with 1 Axes>"
            ]
          },
          "metadata": {
            "needs_background": "light"
          }
        },
        {
          "output_type": "execute_result",
          "data": {
            "text/plain": [
              "<matplotlib.image.AxesImage at 0x7f63733401d0>"
            ]
          },
          "metadata": {},
          "execution_count": 38
        },
        {
          "output_type": "execute_result",
          "data": {
            "text/plain": [
              "Text(0.5, 1.0, 'MNIST target = 3')"
            ]
          },
          "metadata": {},
          "execution_count": 38
        },
        {
          "output_type": "display_data",
          "data": {
            "image/png": "[encoded data removed]",
            "text/plain": [
              "<Figure size 432x288 with 1 Axes>"
            ]
          },
          "metadata": {
            "needs_background": "light"
          }
        },
        {
          "output_type": "execute_result",
          "data": {
            "text/plain": [
              "<matplotlib.image.AxesImage at 0x7f6373298c90>"
            ]
          },
          "metadata": {},
          "execution_count": 38
        },
        {
          "output_type": "execute_result",
          "data": {
            "text/plain": [
              "Text(0.5, 1.0, 'MNIST target = 4')"
            ]
          },
          "metadata": {},
          "execution_count": 38
        },
        {
          "output_type": "display_data",
          "data": {
            "image/png": "[encoded data removed]",
            "text/plain": [
              "<Figure size 432x288 with 1 Axes>"
            ]
          },
          "metadata": {
            "needs_background": "light"
          }
        },
        {
          "output_type": "execute_result",
          "data": {
            "text/plain": [
              "<matplotlib.image.AxesImage at 0x7f63732856d0>"
            ]
          },
          "metadata": {},
          "execution_count": 38
        },
        {
          "output_type": "execute_result",
          "data": {
            "text/plain": [
              "Text(0.5, 1.0, 'MNIST target = 5')"
            ]
          },
          "metadata": {},
          "execution_count": 38
        },
        {
          "output_type": "display_data",
          "data": {
            "image/png": "[encoded data removed]",
            "text/plain": [
              "<Figure size 432x288 with 1 Axes>"
            ]
          },
          "metadata": {
            "needs_background": "light"
          }
        },
        {
          "output_type": "execute_result",
          "data": {
            "text/plain": [
              "<matplotlib.image.AxesImage at 0x7f63731ee110>"
            ]
          },
          "metadata": {},
          "execution_count": 38
        },
        {
          "output_type": "execute_result",
          "data": {
            "text/plain": [
              "Text(0.5, 1.0, 'MNIST target = 6')"
            ]
          },
          "metadata": {},
          "execution_count": 38
        },
        {
          "output_type": "display_data",
          "data": {
            "image/png": "[encoded data removed]",
            "text/plain": [
              "<Figure size 432x288 with 1 Axes>"
            ]
          },
          "metadata": {
            "needs_background": "light"
          }
        },
        {
          "output_type": "execute_result",
          "data": {
            "text/plain": [
              "<matplotlib.image.AxesImage at 0x7f63731cdad0>"
            ]
          },
          "metadata": {},
          "execution_count": 38
        },
        {
          "output_type": "execute_result",
          "data": {
            "text/plain": [
              "Text(0.5, 1.0, 'MNIST target = 7')"
            ]
          },
          "metadata": {},
          "execution_count": 38
        },
        {
          "output_type": "display_data",
          "data": {
            "image/png": "[encoded data removed]",
            "text/plain": [
              "<Figure size 432x288 with 1 Axes>"
            ]
          },
          "metadata": {
            "needs_background": "light"
          }
        },
        {
          "output_type": "execute_result",
          "data": {
            "text/plain": [
              "<matplotlib.image.AxesImage at 0x7f6373139550>"
            ]
          },
          "metadata": {},
          "execution_count": 38
        },
        {
          "output_type": "execute_result",
          "data": {
            "text/plain": [
              "Text(0.5, 1.0, 'MNIST target = 8')"
            ]
          },
          "metadata": {},
          "execution_count": 38
        },
        {
          "output_type": "display_data",
          "data": {
            "image/png": "[encoded data removed]",
            "text/plain": [
              "<Figure size 432x288 with 1 Axes>"
            ]
          },
          "metadata": {
            "needs_background": "light"
          }
        },
        {
          "output_type": "execute_result",
          "data": {
            "text/plain": [
              "<matplotlib.image.AxesImage at 0x7f637232ff10>"
            ]
          },
          "metadata": {},
          "execution_count": 38
        },
        {
          "output_type": "execute_result",
          "data": {
            "text/plain": [
              "Text(0.5, 1.0, 'MNIST target = 9')"
            ]
          },
          "metadata": {},
          "execution_count": 38
        },
        {
          "output_type": "display_data",
          "data": {
            "image/png": "[encoded data removed]",
            "text/plain": [
              "<Figure size 432x288 with 1 Axes>"
            ]
          },
          "metadata": {
            "needs_background": "light"
          }
        }
      ]
    },
    {
      "cell_type": "code",
      "source": [
        "# Initialize Activation Maximization\n",
        "visualize_activation = ActivationMaximization(model5, model_modifier)\n",
        "\n",
        "# Generate a random seed for each activation\n",
        "seed_input = tf.random.uniform((10, 28, 28, 1), 0, 255)"
      ],
      "metadata": {
        "id": "6vLCZJIVyHHg"
      },
      "execution_count": null,
      "outputs": []
    },
    {
      "cell_type": "code",
      "source": [
        "# Generate activations and convert into images\n",
        "activations = visualize_activation(loss, seed_input=seed_input, steps=512)\n",
        "images = [activation.astype(np.float32) for activation in activations]"
      ],
      "metadata": {
        "id": "2OxzfCSLyJyY"
      },
      "execution_count": null,
      "outputs": []
    },
    {
      "cell_type": "code",
      "source": [
        "images[1].shape"
      ],
      "metadata": {
        "colab": {
          "base_uri": "https://localhost:8080/"
        },
        "id": "8xOdeL8XyNLO",
        "outputId": "44a392ad-caf2-4ecf-f209-5d29d8dcaf85"
      },
      "execution_count": null,
      "outputs": [
        {
          "output_type": "execute_result",
          "data": {
            "text/plain": [
              "(28, 28, 1)"
            ]
          },
          "metadata": {},
          "execution_count": 41
        }
      ]
    },
    {
      "cell_type": "code",
      "source": [
        "f, axes = plt.subplots(2, 5, sharey=True,figsize=(30,10))\n",
        "# Visualize each image\n",
        "for i,ax in enumerate(axes.flat):\n",
        "  visualization = images[i].reshape(28,28)\n",
        "  ax.imshow(visualization)\n",
        "  #ax.title.set_text(f'MNIST target = {i}')\n",
        "  ax.set_title(f'MNIST target = {i}', fontsize=20)\n",
        "  #ax.title(fontsize=20)"
      ],
      "metadata": {
        "colab": {
          "base_uri": "https://localhost:8080/",
          "height": 681
        },
        "id": "60l8NuScyRCV",
        "outputId": "1f7cad4d-9f48-4909-aebd-023c4e394b30"
      },
      "execution_count": null,
      "outputs": [
        {
          "output_type": "execute_result",
          "data": {
            "text/plain": [
              "<matplotlib.image.AxesImage at 0x7f63734527d0>"
            ]
          },
          "metadata": {},
          "execution_count": 42
        },
        {
          "output_type": "execute_result",
          "data": {
            "text/plain": [
              "Text(0.5, 1.0, 'MNIST target = 0')"
            ]
          },
          "metadata": {},
          "execution_count": 42
        },
        {
          "output_type": "execute_result",
          "data": {
            "text/plain": [
              "<matplotlib.image.AxesImage at 0x7f6373452750>"
            ]
          },
          "metadata": {},
          "execution_count": 42
        },
        {
          "output_type": "execute_result",
          "data": {
            "text/plain": [
              "Text(0.5, 1.0, 'MNIST target = 1')"
            ]
          },
          "metadata": {},
          "execution_count": 42
        },
        {
          "output_type": "execute_result",
          "data": {
            "text/plain": [
              "<matplotlib.image.AxesImage at 0x7f6373452150>"
            ]
          },
          "metadata": {},
          "execution_count": 42
        },
        {
          "output_type": "execute_result",
          "data": {
            "text/plain": [
              "Text(0.5, 1.0, 'MNIST target = 2')"
            ]
          },
          "metadata": {},
          "execution_count": 42
        },
        {
          "output_type": "execute_result",
          "data": {
            "text/plain": [
              "<matplotlib.image.AxesImage at 0x7f6372265f50>"
            ]
          },
          "metadata": {},
          "execution_count": 42
        },
        {
          "output_type": "execute_result",
          "data": {
            "text/plain": [
              "Text(0.5, 1.0, 'MNIST target = 3')"
            ]
          },
          "metadata": {},
          "execution_count": 42
        },
        {
          "output_type": "execute_result",
          "data": {
            "text/plain": [
              "<matplotlib.image.AxesImage at 0x7f63734526d0>"
            ]
          },
          "metadata": {},
          "execution_count": 42
        },
        {
          "output_type": "execute_result",
          "data": {
            "text/plain": [
              "Text(0.5, 1.0, 'MNIST target = 4')"
            ]
          },
          "metadata": {},
          "execution_count": 42
        },
        {
          "output_type": "execute_result",
          "data": {
            "text/plain": [
              "<matplotlib.image.AxesImage at 0x7f63748f0590>"
            ]
          },
          "metadata": {},
          "execution_count": 42
        },
        {
          "output_type": "execute_result",
          "data": {
            "text/plain": [
              "Text(0.5, 1.0, 'MNIST target = 5')"
            ]
          },
          "metadata": {},
          "execution_count": 42
        },
        {
          "output_type": "execute_result",
          "data": {
            "text/plain": [
              "<matplotlib.image.AxesImage at 0x7f6375a0ce50>"
            ]
          },
          "metadata": {},
          "execution_count": 42
        },
        {
          "output_type": "execute_result",
          "data": {
            "text/plain": [
              "Text(0.5, 1.0, 'MNIST target = 6')"
            ]
          },
          "metadata": {},
          "execution_count": 42
        },
        {
          "output_type": "execute_result",
          "data": {
            "text/plain": [
              "<matplotlib.image.AxesImage at 0x7f6373ed3210>"
            ]
          },
          "metadata": {},
          "execution_count": 42
        },
        {
          "output_type": "execute_result",
          "data": {
            "text/plain": [
              "Text(0.5, 1.0, 'MNIST target = 7')"
            ]
          },
          "metadata": {},
          "execution_count": 42
        },
        {
          "output_type": "execute_result",
          "data": {
            "text/plain": [
              "<matplotlib.image.AxesImage at 0x7f6373478b50>"
            ]
          },
          "metadata": {},
          "execution_count": 42
        },
        {
          "output_type": "execute_result",
          "data": {
            "text/plain": [
              "Text(0.5, 1.0, 'MNIST target = 8')"
            ]
          },
          "metadata": {},
          "execution_count": 42
        },
        {
          "output_type": "execute_result",
          "data": {
            "text/plain": [
              "<matplotlib.image.AxesImage at 0x7f6373478790>"
            ]
          },
          "metadata": {},
          "execution_count": 42
        },
        {
          "output_type": "execute_result",
          "data": {
            "text/plain": [
              "Text(0.5, 1.0, 'MNIST target = 9')"
            ]
          },
          "metadata": {},
          "execution_count": 42
        },
        {
          "output_type": "display_data",
          "data": {
            "image/png": "[encoded data removed]",
            "text/plain": [
              "<Figure size 2160x720 with 10 Axes>"
            ]
          },
          "metadata": {
            "needs_background": "light"
          }
        }
      ]
    },
    {
      "cell_type": "code",
      "source": [
        ""
      ],
      "metadata": {
        "id": "vw7RBvFBzAsy"
      },
      "execution_count": null,
      "outputs": []
    }
  ]
}